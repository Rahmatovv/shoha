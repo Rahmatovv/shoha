{
  "cells": [
    {
      "cell_type": "markdown",
      "metadata": {
        "id": "MH-3kVwvJYeP"
      },
      "source": [
        "# 2.4 Управляющие структуры. Условные ветвления и циклы"
      ]
    },
    {
      "cell_type": "markdown",
      "metadata": {
        "id": "gMwyKhlQJ1mf"
      },
      "source": [
        "## Задание 1"
      ]
    },
    {
      "cell_type": "markdown",
      "metadata": {
        "id": "Owu684lKKrjJ"
      },
      "source": [
        "**Условие:**\n",
        "Вычислить сумму ряда чисел $1/1^2 + 1/2^2 + 1/3^2 + … + 1/n^2$, где $n$ определяется пользователем. Дайте ответ для $n = 50$. Используйте циклы.\n",
        "\n",
        "**Формат ответа:**\n",
        "Число (например, ```0.75```)\n"
      ]
    },
    {
      "cell_type": "markdown",
      "metadata": {
        "id": "OCTvo3fHLaaJ"
      },
      "source": [
        "**Решение:**"
      ]
    },
    {
      "cell_type": "code",
      "execution_count": null,
      "metadata": {
        "colab": {
          "base_uri": "https://localhost:8080/"
        },
        "id": "f9_8IGndLeRO",
        "outputId": "67e829a8-3fce-4b36-930d-bd60d24b30cc"
      },
      "outputs": [
        {
          "output_type": "stream",
          "name": "stdout",
          "text": [
            "(11, 33, 55, 77, 99)\n"
          ]
        }
      ],
      "source": [
        "# Создание кортежа из 10 произвольных значений\n",
        "my_tuple = (11, 22, 33, 44, 55, 66, 77, 88, 99, 100)\n",
        "\n",
        "# Использование операции среза для вывода элементов с четными индексами\n",
        "even_index_elements = my_tuple[::2]\n",
        "\n",
        "# Вывод элементов с четными индексами\n",
        "print(even_index_elements)"
      ]
    },
    {
      "cell_type": "markdown",
      "metadata": {
        "id": "g5S0h2-wKfGE"
      },
      "source": [
        "## Задание 2"
      ]
    },
    {
      "cell_type": "markdown",
      "metadata": {
        "id": "orX7BUzcPKKf"
      },
      "source": [
        "**Условие:**\n",
        "Найдите сумму всех натуральных делителей введенного пользователем натурального числа. В ответе укажите результат для числа ```5120```. Используйте циклы и условные выражения.\n",
        "\n",
        "**Формат ответа:** Целое цисло (например, ```75```)"
      ]
    },
    {
      "cell_type": "markdown",
      "metadata": {
        "id": "ESSLfwqEPKKn"
      },
      "source": [
        "**Решение:**"
      ]
    },
    {
      "cell_type": "code",
      "execution_count": null,
      "metadata": {
        "colab": {
          "base_uri": "https://localhost:8080/"
        },
        "id": "y8HOlaNLPKKq",
        "outputId": "63973398-b846-438a-bd93-93d47d2c3121"
      },
      "outputs": [
        {
          "output_type": "stream",
          "name": "stdout",
          "text": [
            "{0, 1}\n"
          ]
        }
      ],
      "source": [
        "# Создание списка из 10 элементов, которые могут быть только 0 или 1\n",
        "my_list = [0, 1, 1, 0, 1, 0, 1, 0, 0, 1]\n",
        "\n",
        "# Применение операции set() к списку\n",
        "unique_values = set(my_list)\n",
        "\n",
        "# Вывод уникальных значений\n",
        "print(unique_values)"
      ]
    },
    {
      "cell_type": "markdown",
      "metadata": {
        "id": "tq0Fcrg1KfXQ"
      },
      "source": [
        "## Задание 3"
      ]
    },
    {
      "cell_type": "markdown",
      "metadata": {
        "id": "3xp-jyyHPMIb"
      },
      "source": [
        "**Условие:** Создайте игру, в которой пользователь должен угадать заранее случайным образом выбранное целое число от 1 до 10. Используйте модуль ```random``` и цикл ```while```. Не забудьте поставить условие выхода, например, при вводе символа *. Сыграйте с машиной в эту игру 3 раза и укажите среднее значение попыток до успешного угадывания.\n",
        "\n",
        "**Формат ответа:** Число (например, ```7```)\n"
      ]
    },
    {
      "cell_type": "markdown",
      "metadata": {
        "id": "H5ZlBsI2PMIi"
      },
      "source": [
        "**Решение:**"
      ]
    },
    {
      "cell_type": "code",
      "execution_count": null,
      "metadata": {
        "colab": {
          "base_uri": "https://localhost:8080/"
        },
        "id": "6amsYUCoPMIn",
        "outputId": "c36d9253-12ad-45a5-d37a-99eddd5e7e54"
      },
      "outputs": [
        {
          "output_type": "stream",
          "name": "stdout",
          "text": [
            "Анна: 55000.0 рублей\n",
            "Петр: 66000.0 рублей\n",
            "Ирина: 60500.0 рублей\n",
            "Алексей: 71500.0 рублей\n",
            "Елена: 77000.0 рублей\n",
            "Сергей: 79200.0 рублей\n",
            "Мария: 63800.0 рублей\n"
          ]
        }
      ],
      "source": [
        "# Создание словаря из 5 сотрудников с их заработной платой\n",
        "employees = {\n",
        "    \"Анна\": 50000,\n",
        "    \"Петр\": 60000,\n",
        "    \"Ирина\": 55000,\n",
        "    \"Алексей\": 65000,\n",
        "    \"Елена\": 70000\n",
        "}\n",
        "\n",
        "# Добавление нескольких новых сотрудников в словарь\n",
        "employees.update({\n",
        "    \"Сергей\": 72000,\n",
        "    \"Мария\": 58000\n",
        "})\n",
        "\n",
        "# Индексация зарплат всем сотрудникам на 10% в цикле\n",
        "for name, salary in employees.items():\n",
        "    employees[name] = salary * 1.1\n",
        "\n",
        "# Вывод обновленного словаря сотрудников и их новой заработной платой\n",
        "for name, salary in employees.items():\n",
        "    print(f\"{name}: {round(salary, 2)} рублей\")"
      ]
    }
  ],
  "metadata": {
    "colab": {
      "provenance": []
    },
    "kernelspec": {
      "display_name": "Python 3 (ipykernel)",
      "language": "python",
      "name": "python3"
    },
    "language_info": {
      "codemirror_mode": {
        "name": "ipython",
        "version": 3
      },
      "file_extension": ".py",
      "mimetype": "text/x-python",
      "name": "python",
      "nbconvert_exporter": "python",
      "pygments_lexer": "ipython3",
      "version": "3.11.7"
    }
  },
  "nbformat": 4,
  "nbformat_minor": 0
}